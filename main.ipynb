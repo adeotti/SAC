{
 "cells": [
  {
   "cell_type": "code",
   "execution_count": null,
   "id": "e86421c1",
   "metadata": {},
   "outputs": [],
   "source": [
    "#!pip install robosuite\n",
    "#!pip install mujoco\n",
    "#!pip install h5py\n",
    "#pip install gymansium==1.2.0\n",
    "..."
   ]
  },
  {
   "cell_type": "code",
   "execution_count": null,
   "id": "553ddea9",
   "metadata": {},
   "outputs": [],
   "source": [
    "import robosuite as suite\n",
    "from robosuite.wrappers import GymWrapper\n",
    "import gymnasium as gym\n",
    "from gymnasium.vector import AsyncVectorEnv\n",
    "from gymnasium.wrappers import Autoreset\n",
    "import torch\n",
    "from torch import Tensor\n",
    "import torch.nn.functional as F\n",
    "import torch.nn as nn\n",
    "import numpy as np\n",
    "from IPython.display import clear_output\n",
    "from dataclasses import dataclass\n",
    "from copy import deepcopy\n",
    "clear_output()"
   ]
  },
  {
   "cell_type": "code",
   "execution_count": null,
   "id": "a9139930",
   "metadata": {},
   "outputs": [],
   "source": [
    "@dataclass\n",
    "class Hypers:\n",
    "    num_env = 1\n",
    "    horizon = 1000\n",
    "    lr = 3e-4\n",
    "    lambda_ = 0\n",
    "    tau = 0\n",
    "    device = torch.device(\"cuda\" if torch.cuda.is_available() else \"cpu\")\n",
    "\n",
    "hypers = Hypers()\n",
    "\n",
    "env_configs = {\n",
    "    \"robots\":[\"Panda\"],\n",
    "    \"gripper_types\":[\"JacoThreeFingerDexterousGripper\"],\n",
    "    \"has_renderer\":True,\n",
    "    \"use_camera_obs\":False,\n",
    "    \"has_offscreen_renderer\":False,\n",
    "    \"horizon\":hypers.horizon, \n",
    "}\n",
    "\n",
    "def vec_env():\n",
    "    def make_env():\n",
    "        x = suite.make(env_name =\"PickPlace\" ,**env_configs)\n",
    "        x = GymWrapper(x)\n",
    "        x = Autoreset(x)\n",
    "        return x\n",
    "    return AsyncVectorEnv([make_env for _ in range(hypers.num_env)])\n",
    "\n",
    " \n",
    "clear_output()"
   ]
  },
  {
   "cell_type": "code",
   "execution_count": null,
   "id": "4a5510e0",
   "metadata": {},
   "outputs": [],
   "source": [
    "e = vec_env()"
   ]
  },
  {
   "cell_type": "code",
   "execution_count": null,
   "id": "fc8f840e",
   "metadata": {},
   "outputs": [],
   "source": [
    "class Actor(nn.Module):\n",
    "    def __ini__(self):\n",
    "        super().__init__(self)\n",
    "\n",
    "    def forward(x:Tensor):\n",
    "        pass\n",
    "\n",
    "class Critic(nn.Module):\n",
    "    def __ini__(self):\n",
    "        super().__init__(self)\n",
    "\n",
    "    def forward(x:Tensor):\n",
    "        pass"
   ]
  },
  {
   "cell_type": "code",
   "execution_count": null,
   "id": "58fab73a",
   "metadata": {},
   "outputs": [],
   "source": [
    "env.reset()\n",
    "for i in range(1000000):\n",
    "    action = env.action_space.sample()\n",
    "    obs, reward, done, info,_ = env.step(action)  \n",
    "    env.render()  \n",
    "env.close()\n",
    "..."
   ]
  }
 ],
 "metadata": {
  "kernelspec": {
   "display_name": "venv",
   "language": "python",
   "name": "python3"
  },
  "language_info": {
   "codemirror_mode": {
    "name": "ipython",
    "version": 3
   },
   "file_extension": ".py",
   "mimetype": "text/x-python",
   "name": "python",
   "nbconvert_exporter": "python",
   "pygments_lexer": "ipython3",
   "version": "3.10.11"
  }
 },
 "nbformat": 4,
 "nbformat_minor": 5
}
