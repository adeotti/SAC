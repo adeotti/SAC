{
 "cells": [
  {
   "cell_type": "code",
   "execution_count": null,
   "id": "e86421c1",
   "metadata": {},
   "outputs": [],
   "source": [
    "#!pip install robosuite\n",
    "#!pip install mujoco\n",
    "#!pip install h5py\n",
    "#pip install gymansium==1.2.0\n",
    "..."
   ]
  },
  {
   "cell_type": "code",
   "execution_count": 20,
   "id": "553ddea9",
   "metadata": {},
   "outputs": [],
   "source": [
    "import robosuite as suite\n",
    "from robosuite.wrappers import GymWrapper\n",
    "from gymnasium.vector import SyncVectorEnv\n",
    "from gymnasium.wrappers import Autoreset\n",
    "import torch\n",
    "from torch import Tensor\n",
    "import torch.nn.functional as F\n",
    "import torch.nn as nn\n",
    "from IPython.display import clear_output\n",
    "from dataclasses import dataclass\n",
    "from copy import deepcopy\n",
    "clear_output()"
   ]
  },
  {
   "cell_type": "code",
   "execution_count": null,
   "id": "a9139930",
   "metadata": {},
   "outputs": [],
   "source": [
    "@dataclass\n",
    "class Hypers:\n",
    "    num_env = 1\n",
    "    obs_dim = 214      # observation dim \n",
    "    action_dim = 0\n",
    "    horizon = 1000\n",
    "    lr = 3e-4\n",
    "    lambda_ = 0\n",
    "    tau = 0\n",
    "    device = torch.device(\"cuda\" if torch.cuda.is_available() else \"cpu\")\n",
    "\n",
    "hypers = Hypers()\n",
    "\n",
    "env_configs = {\n",
    "    \"robots\":[\"Panda\"],\n",
    "    \"gripper_types\":[\"JacoThreeFingerDexterousGripper\"],\n",
    "    \"has_renderer\":False,\n",
    "    \"use_camera_obs\":False,\n",
    "    \"has_offscreen_renderer\":False,\n",
    "    \"horizon\":500, \n",
    "}\n",
    "\n",
    "def vec_env():\n",
    "    def make_env():\n",
    "        x = suite.make(env_name =\"PickPlace\" ,**env_configs)\n",
    "        x = GymWrapper(x,keys=list(x.observation_spec()))\n",
    "        x.metadata = {\"render_mode\":[]}\n",
    "        x = Autoreset(x)\n",
    "        return x\n",
    "    return SyncVectorEnv([make_env for _ in range(hypers.num_env)])"
   ]
  },
  {
   "cell_type": "code",
   "execution_count": 19,
   "id": "fc8f840e",
   "metadata": {},
   "outputs": [],
   "source": [
    "shared_net = nn.Sequential(\n",
    "    nn.LazyLinear(512),\n",
    "    nn.ReLU(),\n",
    "    nn.Linear(512,512),\n",
    "    nn.ReLU(),\n",
    "    nn.Linear(512,512),\n",
    "    nn.ReLU()\n",
    ")\n",
    "\n",
    "class Actor(nn.Module):\n",
    "    def __init__(self,action_dim):\n",
    "        super().__init__()\n",
    "        self.shared_network = shared_net\n",
    "        self.output = nn.Linear(512,action_dim)\n",
    "        self.optim = torch.optim.Adam(self,hypers.lr)\n",
    "\n",
    "    def forward(self,obs:Tensor):\n",
    "        x = shared_net(obs)\n",
    "        x = self.output(x)\n",
    "        return F.tanh(x)\n",
    "\n",
    "class Critic(nn.Module):\n",
    "    def __init__(self):\n",
    "        super().__init__()\n",
    "        self.shared_net = shared_net\n",
    "        self.output = nn.Linear(512,1)\n",
    "\n",
    "    def forward(self,obs:Tensor,action:Tensor):\n",
    "        cat = torch.cat((obs,action),dim=-1)\n",
    "        x = self.shared_net(cat)\n",
    "        x = self.output(x)\n",
    "        return x"
   ]
  },
  {
   "cell_type": "code",
   "execution_count": null,
   "id": "a27274b0",
   "metadata": {},
   "outputs": [],
   "source": [
    "class collector:\n",
    "    def __init__(self):\n",
    "        self.data = []\n",
    "\n",
    "    @torch.no_grad()\n",
    "    def rollout(self):\n",
    "        pass\n",
    "\n",
    "    def sample(self):\n",
    "        pass"
   ]
  }
 ],
 "metadata": {
  "kernelspec": {
   "display_name": "venv",
   "language": "python",
   "name": "python3"
  },
  "language_info": {
   "codemirror_mode": {
    "name": "ipython",
    "version": 3
   },
   "file_extension": ".py",
   "mimetype": "text/x-python",
   "name": "python",
   "nbconvert_exporter": "python",
   "pygments_lexer": "ipython3",
   "version": "3.10.11"
  }
 },
 "nbformat": 4,
 "nbformat_minor": 5
}
