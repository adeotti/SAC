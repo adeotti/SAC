{
 "cells": [
  {
   "cell_type": "code",
   "execution_count": 1,
   "id": "553ddea9",
   "metadata": {},
   "outputs": [
    {
     "name": "stderr",
     "output_type": "stream",
     "text": [
      "\u001b[1m\u001b[33m[robosuite WARNING] \u001b[0mNo private macro file found! (macros.py:53)\n",
      "\u001b[1m\u001b[33m[robosuite WARNING] \u001b[0mIt is recommended to use a private macro file (macros.py:54)\n",
      "\u001b[1m\u001b[33m[robosuite WARNING] \u001b[0mTo setup, run: python c:\\Users\\14385\\Desktop\\SAC\\venv\\lib\\site-packages\\robosuite/scripts/setup_macros.py (macros.py:55)\n",
      "\u001b[1m\u001b[33m[robosuite WARNING] \u001b[0mCould not import robosuite_models. Some robots may not be available. If you want to use these robots, please install robosuite_models from source (https://github.com/ARISE-Initiative/robosuite_models) or through pip install. (__init__.py:30)\n",
      "\u001b[1m\u001b[33m[robosuite WARNING] \u001b[0mCould not load the mink-based whole-body IK. Make sure you install related import properly, otherwise you will not be able to use the default IK controller setting for GR1 robot. (__init__.py:40)\n"
     ]
    },
    {
     "data": {
      "text/plain": [
       "Ellipsis"
      ]
     },
     "execution_count": 1,
     "metadata": {},
     "output_type": "execute_result"
    }
   ],
   "source": [
    "import robosuite as suite\n",
    "import numpy as np\n",
    "import torch\n",
    "from torch import Tensor\n",
    "..."
   ]
  },
  {
   "cell_type": "code",
   "execution_count": 2,
   "id": "bd33e1a7",
   "metadata": {},
   "outputs": [
    {
     "data": {
      "text/plain": [
       "mappingproxy({'Lift': robosuite.environments.manipulation.lift.Lift,\n",
       "              'Stack': robosuite.environments.manipulation.stack.Stack,\n",
       "              'NutAssembly': robosuite.environments.manipulation.nut_assembly.NutAssembly,\n",
       "              'NutAssemblySingle': robosuite.environments.manipulation.nut_assembly.NutAssemblySingle,\n",
       "              'NutAssemblySquare': robosuite.environments.manipulation.nut_assembly.NutAssemblySquare,\n",
       "              'NutAssemblyRound': robosuite.environments.manipulation.nut_assembly.NutAssemblyRound,\n",
       "              'PickPlace': robosuite.environments.manipulation.pick_place.PickPlace,\n",
       "              'PickPlaceSingle': robosuite.environments.manipulation.pick_place.PickPlaceSingle,\n",
       "              'PickPlaceMilk': robosuite.environments.manipulation.pick_place.PickPlaceMilk,\n",
       "              'PickPlaceBread': robosuite.environments.manipulation.pick_place.PickPlaceBread,\n",
       "              'PickPlaceCereal': robosuite.environments.manipulation.pick_place.PickPlaceCereal,\n",
       "              'PickPlaceCan': robosuite.environments.manipulation.pick_place.PickPlaceCan,\n",
       "              'Door': robosuite.environments.manipulation.door.Door,\n",
       "              'Wipe': robosuite.environments.manipulation.wipe.Wipe,\n",
       "              'ToolHang': robosuite.environments.manipulation.tool_hang.ToolHang,\n",
       "              'TwoArmLift': robosuite.environments.manipulation.two_arm_lift.TwoArmLift,\n",
       "              'TwoArmPegInHole': robosuite.environments.manipulation.two_arm_peg_in_hole.TwoArmPegInHole,\n",
       "              'TwoArmHandover': robosuite.environments.manipulation.two_arm_handover.TwoArmHandover,\n",
       "              'TwoArmTransport': robosuite.environments.manipulation.two_arm_transport.TwoArmTransport})"
      ]
     },
     "execution_count": 2,
     "metadata": {},
     "output_type": "execute_result"
    }
   ],
   "source": [
    "suite.environments.ALL_ENVIRONMENTS.mapping # Available environment"
   ]
  },
  {
   "cell_type": "code",
   "execution_count": 4,
   "id": "58fab73a",
   "metadata": {},
   "outputs": [
    {
     "name": "stderr",
     "output_type": "stream",
     "text": [
      "\u001b[1m\u001b[32m[robosuite INFO] \u001b[0mLoading controller configuration from: c:\\Users\\14385\\Desktop\\SAC\\venv\\lib\\site-packages\\robosuite\\controllers\\config\\robots\\default_gr1.json (composite_controller_factory.py:121)\n",
      "\u001b[1m\u001b[33m[robosuite WARNING] \u001b[0mThe config has defined for the controller \"base\", but the robot does not have this component. Skipping, but make sure this is intended.Removing the controller config for base from self.part_controller_config. (robot.py:151)\n",
      "\u001b[1m\u001b[33m[robosuite WARNING] \u001b[0mPart 'base' specified in 'actuation_part_names' does not exist in part_controllers. Removing ... (composite_controller.py:409)\n",
      "\u001b[1m\u001b[32m[robosuite INFO] \u001b[0mLoading controller configuration from: c:\\Users\\14385\\Desktop\\SAC\\venv\\lib\\site-packages\\robosuite\\controllers\\config\\robots\\default_gr1.json (composite_controller_factory.py:121)\n",
      "\u001b[1m\u001b[33m[robosuite WARNING] \u001b[0mThe config has defined for the controller \"base\", but the robot does not have this component. Skipping, but make sure this is intended.Removing the controller config for base from self.part_controller_config. (robot.py:151)\n",
      "\u001b[1m\u001b[33m[robosuite WARNING] \u001b[0mPart 'base' specified in 'actuation_part_names' does not exist in part_controllers. Removing ... (composite_controller.py:409)\n",
      "\u001b[1m\u001b[32m[robosuite INFO] \u001b[0mLoading controller configuration from: c:\\Users\\14385\\Desktop\\SAC\\venv\\lib\\site-packages\\robosuite\\controllers\\config\\robots\\default_gr1.json (composite_controller_factory.py:121)\n",
      "\u001b[1m\u001b[33m[robosuite WARNING] \u001b[0mThe config has defined for the controller \"base\", but the robot does not have this component. Skipping, but make sure this is intended.Removing the controller config for base from self.part_controller_config. (robot.py:151)\n",
      "\u001b[1m\u001b[33m[robosuite WARNING] \u001b[0mPart 'base' specified in 'actuation_part_names' does not exist in part_controllers. Removing ... (composite_controller.py:409)\n",
      "\u001b[1m\u001b[32m[robosuite INFO] \u001b[0mLoading controller configuration from: c:\\Users\\14385\\Desktop\\SAC\\venv\\lib\\site-packages\\robosuite\\controllers\\config\\robots\\default_gr1.json (composite_controller_factory.py:121)\n",
      "\u001b[1m\u001b[33m[robosuite WARNING] \u001b[0mThe config has defined for the controller \"base\", but the robot does not have this component. Skipping, but make sure this is intended.Removing the controller config for base from self.part_controller_config. (robot.py:151)\n",
      "\u001b[1m\u001b[33m[robosuite WARNING] \u001b[0mPart 'base' specified in 'actuation_part_names' does not exist in part_controllers. Removing ... (composite_controller.py:409)\n",
      "\u001b[1m\u001b[32m[robosuite INFO] \u001b[0mLoading controller configuration from: c:\\Users\\14385\\Desktop\\SAC\\venv\\lib\\site-packages\\robosuite\\controllers\\config\\robots\\default_gr1.json (composite_controller_factory.py:121)\n",
      "\u001b[1m\u001b[33m[robosuite WARNING] \u001b[0mThe config has defined for the controller \"base\", but the robot does not have this component. Skipping, but make sure this is intended.Removing the controller config for base from self.part_controller_config. (robot.py:151)\n",
      "\u001b[1m\u001b[33m[robosuite WARNING] \u001b[0mPart 'base' specified in 'actuation_part_names' does not exist in part_controllers. Removing ... (composite_controller.py:409)\n",
      "\u001b[1m\u001b[32m[robosuite INFO] \u001b[0mLoading controller configuration from: c:\\Users\\14385\\Desktop\\SAC\\venv\\lib\\site-packages\\robosuite\\controllers\\config\\robots\\default_gr1.json (composite_controller_factory.py:121)\n",
      "\u001b[1m\u001b[33m[robosuite WARNING] \u001b[0mThe config has defined for the controller \"base\", but the robot does not have this component. Skipping, but make sure this is intended.Removing the controller config for base from self.part_controller_config. (robot.py:151)\n",
      "\u001b[1m\u001b[33m[robosuite WARNING] \u001b[0mPart 'base' specified in 'actuation_part_names' does not exist in part_controllers. Removing ... (composite_controller.py:409)\n",
      "\u001b[1m\u001b[32m[robosuite INFO] \u001b[0mLoading controller configuration from: c:\\Users\\14385\\Desktop\\SAC\\venv\\lib\\site-packages\\robosuite\\controllers\\config\\robots\\default_gr1.json (composite_controller_factory.py:121)\n",
      "\u001b[1m\u001b[33m[robosuite WARNING] \u001b[0mThe config has defined for the controller \"base\", but the robot does not have this component. Skipping, but make sure this is intended.Removing the controller config for base from self.part_controller_config. (robot.py:151)\n",
      "\u001b[1m\u001b[33m[robosuite WARNING] \u001b[0mPart 'base' specified in 'actuation_part_names' does not exist in part_controllers. Removing ... (composite_controller.py:409)\n",
      "\u001b[1m\u001b[32m[robosuite INFO] \u001b[0mLoading controller configuration from: c:\\Users\\14385\\Desktop\\SAC\\venv\\lib\\site-packages\\robosuite\\controllers\\config\\robots\\default_gr1.json (composite_controller_factory.py:121)\n",
      "\u001b[1m\u001b[33m[robosuite WARNING] \u001b[0mThe config has defined for the controller \"base\", but the robot does not have this component. Skipping, but make sure this is intended.Removing the controller config for base from self.part_controller_config. (robot.py:151)\n",
      "\u001b[1m\u001b[33m[robosuite WARNING] \u001b[0mPart 'base' specified in 'actuation_part_names' does not exist in part_controllers. Removing ... (composite_controller.py:409)\n",
      "\u001b[1m\u001b[32m[robosuite INFO] \u001b[0mLoading controller configuration from: c:\\Users\\14385\\Desktop\\SAC\\venv\\lib\\site-packages\\robosuite\\controllers\\config\\robots\\default_gr1.json (composite_controller_factory.py:121)\n",
      "\u001b[1m\u001b[33m[robosuite WARNING] \u001b[0mThe config has defined for the controller \"base\", but the robot does not have this component. Skipping, but make sure this is intended.Removing the controller config for base from self.part_controller_config. (robot.py:151)\n",
      "\u001b[1m\u001b[33m[robosuite WARNING] \u001b[0mPart 'base' specified in 'actuation_part_names' does not exist in part_controllers. Removing ... (composite_controller.py:409)\n",
      "\u001b[1m\u001b[32m[robosuite INFO] \u001b[0mLoading controller configuration from: c:\\Users\\14385\\Desktop\\SAC\\venv\\lib\\site-packages\\robosuite\\controllers\\config\\robots\\default_gr1.json (composite_controller_factory.py:121)\n",
      "\u001b[1m\u001b[33m[robosuite WARNING] \u001b[0mThe config has defined for the controller \"base\", but the robot does not have this component. Skipping, but make sure this is intended.Removing the controller config for base from self.part_controller_config. (robot.py:151)\n",
      "\u001b[1m\u001b[33m[robosuite WARNING] \u001b[0mPart 'base' specified in 'actuation_part_names' does not exist in part_controllers. Removing ... (composite_controller.py:409)\n",
      "\u001b[1m\u001b[32m[robosuite INFO] \u001b[0mLoading controller configuration from: c:\\Users\\14385\\Desktop\\SAC\\venv\\lib\\site-packages\\robosuite\\controllers\\config\\robots\\default_gr1.json (composite_controller_factory.py:121)\n",
      "\u001b[1m\u001b[33m[robosuite WARNING] \u001b[0mThe config has defined for the controller \"base\", but the robot does not have this component. Skipping, but make sure this is intended.Removing the controller config for base from self.part_controller_config. (robot.py:151)\n",
      "\u001b[1m\u001b[33m[robosuite WARNING] \u001b[0mPart 'base' specified in 'actuation_part_names' does not exist in part_controllers. Removing ... (composite_controller.py:409)\n",
      "\u001b[1m\u001b[32m[robosuite INFO] \u001b[0mLoading controller configuration from: c:\\Users\\14385\\Desktop\\SAC\\venv\\lib\\site-packages\\robosuite\\controllers\\config\\robots\\default_gr1.json (composite_controller_factory.py:121)\n",
      "\u001b[1m\u001b[33m[robosuite WARNING] \u001b[0mThe config has defined for the controller \"base\", but the robot does not have this component. Skipping, but make sure this is intended.Removing the controller config for base from self.part_controller_config. (robot.py:151)\n",
      "\u001b[1m\u001b[33m[robosuite WARNING] \u001b[0mPart 'base' specified in 'actuation_part_names' does not exist in part_controllers. Removing ... (composite_controller.py:409)\n",
      "\u001b[1m\u001b[32m[robosuite INFO] \u001b[0mLoading controller configuration from: c:\\Users\\14385\\Desktop\\SAC\\venv\\lib\\site-packages\\robosuite\\controllers\\config\\robots\\default_gr1.json (composite_controller_factory.py:121)\n",
      "\u001b[1m\u001b[33m[robosuite WARNING] \u001b[0mThe config has defined for the controller \"base\", but the robot does not have this component. Skipping, but make sure this is intended.Removing the controller config for base from self.part_controller_config. (robot.py:151)\n",
      "\u001b[1m\u001b[33m[robosuite WARNING] \u001b[0mPart 'base' specified in 'actuation_part_names' does not exist in part_controllers. Removing ... (composite_controller.py:409)\n"
     ]
    },
    {
     "ename": "KeyboardInterrupt",
     "evalue": "",
     "output_type": "error",
     "traceback": [
      "\u001b[1;31m---------------------------------------------------------------------------\u001b[0m",
      "\u001b[1;31mKeyboardInterrupt\u001b[0m                         Traceback (most recent call last)",
      "Cell \u001b[1;32mIn[4], line 13\u001b[0m\n\u001b[0;32m     11\u001b[0m \u001b[38;5;28;01mfor\u001b[39;00m i \u001b[38;5;129;01min\u001b[39;00m \u001b[38;5;28mrange\u001b[39m(\u001b[38;5;241m100\u001b[39m):\n\u001b[0;32m     12\u001b[0m     action \u001b[38;5;241m=\u001b[39m np\u001b[38;5;241m.\u001b[39mrandom\u001b[38;5;241m.\u001b[39mrandn(\u001b[38;5;241m*\u001b[39menv\u001b[38;5;241m.\u001b[39maction_spec[\u001b[38;5;241m0\u001b[39m]\u001b[38;5;241m.\u001b[39mshape) \u001b[38;5;241m*\u001b[39m \u001b[38;5;241m0.1\u001b[39m\n\u001b[1;32m---> 13\u001b[0m     obs, reward, done, info \u001b[38;5;241m=\u001b[39m \u001b[43menv\u001b[49m\u001b[38;5;241;43m.\u001b[39;49m\u001b[43mstep\u001b[49m\u001b[43m(\u001b[49m\u001b[43maction\u001b[49m\u001b[43m)\u001b[49m  \n\u001b[0;32m     14\u001b[0m     env\u001b[38;5;241m.\u001b[39mrender()  \n\u001b[0;32m     15\u001b[0m env\u001b[38;5;241m.\u001b[39mclose()\n",
      "File \u001b[1;32mc:\\Users\\14385\\Desktop\\SAC\\venv\\lib\\site-packages\\robosuite\\environments\\base.py:452\u001b[0m, in \u001b[0;36mMujocoEnv.step\u001b[1;34m(self, action)\u001b[0m\n\u001b[0;32m    450\u001b[0m \u001b[38;5;28;01melse\u001b[39;00m:\n\u001b[0;32m    451\u001b[0m     \u001b[38;5;28mself\u001b[39m\u001b[38;5;241m.\u001b[39msim\u001b[38;5;241m.\u001b[39mforward()\n\u001b[1;32m--> 452\u001b[0m \u001b[38;5;28;43mself\u001b[39;49m\u001b[38;5;241;43m.\u001b[39;49m\u001b[43m_pre_action\u001b[49m\u001b[43m(\u001b[49m\u001b[43maction\u001b[49m\u001b[43m,\u001b[49m\u001b[43m \u001b[49m\u001b[43mpolicy_step\u001b[49m\u001b[43m)\u001b[49m\n\u001b[0;32m    453\u001b[0m \u001b[38;5;28;01mif\u001b[39;00m \u001b[38;5;28mself\u001b[39m\u001b[38;5;241m.\u001b[39mlite_physics:\n\u001b[0;32m    454\u001b[0m     \u001b[38;5;28mself\u001b[39m\u001b[38;5;241m.\u001b[39msim\u001b[38;5;241m.\u001b[39mstep2()\n",
      "File \u001b[1;32mc:\\Users\\14385\\Desktop\\SAC\\venv\\lib\\site-packages\\robosuite\\environments\\robot_env.py:589\u001b[0m, in \u001b[0;36mRobotEnv._pre_action\u001b[1;34m(self, action, policy_step)\u001b[0m\n\u001b[0;32m    587\u001b[0m \u001b[38;5;28;01mfor\u001b[39;00m idx, robot \u001b[38;5;129;01min\u001b[39;00m \u001b[38;5;28menumerate\u001b[39m(\u001b[38;5;28mself\u001b[39m\u001b[38;5;241m.\u001b[39mrobots):\n\u001b[0;32m    588\u001b[0m     robot_action \u001b[38;5;241m=\u001b[39m action[cutoff : cutoff \u001b[38;5;241m+\u001b[39m robot\u001b[38;5;241m.\u001b[39maction_dim]\n\u001b[1;32m--> 589\u001b[0m     \u001b[43mrobot\u001b[49m\u001b[38;5;241;43m.\u001b[39;49m\u001b[43mcontrol\u001b[49m\u001b[43m(\u001b[49m\u001b[43mrobot_action\u001b[49m\u001b[43m,\u001b[49m\u001b[43m \u001b[49m\u001b[43mpolicy_step\u001b[49m\u001b[38;5;241;43m=\u001b[39;49m\u001b[43mpolicy_step\u001b[49m\u001b[43m)\u001b[49m\n\u001b[0;32m    590\u001b[0m     cutoff \u001b[38;5;241m+\u001b[39m\u001b[38;5;241m=\u001b[39m robot\u001b[38;5;241m.\u001b[39maction_dim\n",
      "File \u001b[1;32mc:\\Users\\14385\\Desktop\\SAC\\venv\\lib\\site-packages\\robosuite\\robots\\legged_robot.py:219\u001b[0m, in \u001b[0;36mLeggedRobot.control\u001b[1;34m(self, action, policy_step)\u001b[0m\n\u001b[0;32m    212\u001b[0m \u001b[38;5;28mself\u001b[39m\u001b[38;5;241m.\u001b[39mrecent_ee_vel_buffer[arm]\u001b[38;5;241m.\u001b[39mpush(np\u001b[38;5;241m.\u001b[39mconcatenate((controller\u001b[38;5;241m.\u001b[39mref_pos_vel, controller\u001b[38;5;241m.\u001b[39mref_ori_vel)))\n\u001b[0;32m    213\u001b[0m diffs \u001b[38;5;241m=\u001b[39m np\u001b[38;5;241m.\u001b[39mvstack(\n\u001b[0;32m    214\u001b[0m     [\n\u001b[0;32m    215\u001b[0m         \u001b[38;5;28mself\u001b[39m\u001b[38;5;241m.\u001b[39mrecent_ee_acc[arm]\u001b[38;5;241m.\u001b[39mcurrent,\n\u001b[0;32m    216\u001b[0m         \u001b[38;5;28mself\u001b[39m\u001b[38;5;241m.\u001b[39mcontrol_freq \u001b[38;5;241m*\u001b[39m np\u001b[38;5;241m.\u001b[39mdiff(\u001b[38;5;28mself\u001b[39m\u001b[38;5;241m.\u001b[39mrecent_ee_vel_buffer[arm]\u001b[38;5;241m.\u001b[39mbuf, axis\u001b[38;5;241m=\u001b[39m\u001b[38;5;241m0\u001b[39m),\n\u001b[0;32m    217\u001b[0m     ]\n\u001b[0;32m    218\u001b[0m )\n\u001b[1;32m--> 219\u001b[0m ee_acc \u001b[38;5;241m=\u001b[39m np\u001b[38;5;241m.\u001b[39marray([np\u001b[38;5;241m.\u001b[39mconvolve(col, np\u001b[38;5;241m.\u001b[39mones(\u001b[38;5;241m10\u001b[39m) \u001b[38;5;241m/\u001b[39m \u001b[38;5;241m10.0\u001b[39m, mode\u001b[38;5;241m=\u001b[39m\u001b[38;5;124m\"\u001b[39m\u001b[38;5;124mvalid\u001b[39m\u001b[38;5;124m\"\u001b[39m)[\u001b[38;5;241m0\u001b[39m] \u001b[38;5;28;01mfor\u001b[39;00m col \u001b[38;5;129;01min\u001b[39;00m diffs\u001b[38;5;241m.\u001b[39mtranspose()])\n\u001b[0;32m    220\u001b[0m \u001b[38;5;28mself\u001b[39m\u001b[38;5;241m.\u001b[39mrecent_ee_acc[arm]\u001b[38;5;241m.\u001b[39mpush(ee_acc)\n",
      "File \u001b[1;32mc:\\Users\\14385\\Desktop\\SAC\\venv\\lib\\site-packages\\robosuite\\robots\\legged_robot.py:219\u001b[0m, in \u001b[0;36m<listcomp>\u001b[1;34m(.0)\u001b[0m\n\u001b[0;32m    212\u001b[0m \u001b[38;5;28mself\u001b[39m\u001b[38;5;241m.\u001b[39mrecent_ee_vel_buffer[arm]\u001b[38;5;241m.\u001b[39mpush(np\u001b[38;5;241m.\u001b[39mconcatenate((controller\u001b[38;5;241m.\u001b[39mref_pos_vel, controller\u001b[38;5;241m.\u001b[39mref_ori_vel)))\n\u001b[0;32m    213\u001b[0m diffs \u001b[38;5;241m=\u001b[39m np\u001b[38;5;241m.\u001b[39mvstack(\n\u001b[0;32m    214\u001b[0m     [\n\u001b[0;32m    215\u001b[0m         \u001b[38;5;28mself\u001b[39m\u001b[38;5;241m.\u001b[39mrecent_ee_acc[arm]\u001b[38;5;241m.\u001b[39mcurrent,\n\u001b[0;32m    216\u001b[0m         \u001b[38;5;28mself\u001b[39m\u001b[38;5;241m.\u001b[39mcontrol_freq \u001b[38;5;241m*\u001b[39m np\u001b[38;5;241m.\u001b[39mdiff(\u001b[38;5;28mself\u001b[39m\u001b[38;5;241m.\u001b[39mrecent_ee_vel_buffer[arm]\u001b[38;5;241m.\u001b[39mbuf, axis\u001b[38;5;241m=\u001b[39m\u001b[38;5;241m0\u001b[39m),\n\u001b[0;32m    217\u001b[0m     ]\n\u001b[0;32m    218\u001b[0m )\n\u001b[1;32m--> 219\u001b[0m ee_acc \u001b[38;5;241m=\u001b[39m np\u001b[38;5;241m.\u001b[39marray([\u001b[43mnp\u001b[49m\u001b[38;5;241;43m.\u001b[39;49m\u001b[43mconvolve\u001b[49m\u001b[43m(\u001b[49m\u001b[43mcol\u001b[49m\u001b[43m,\u001b[49m\u001b[43m \u001b[49m\u001b[43mnp\u001b[49m\u001b[38;5;241;43m.\u001b[39;49m\u001b[43mones\u001b[49m\u001b[43m(\u001b[49m\u001b[38;5;241;43m10\u001b[39;49m\u001b[43m)\u001b[49m\u001b[43m \u001b[49m\u001b[38;5;241;43m/\u001b[39;49m\u001b[43m \u001b[49m\u001b[38;5;241;43m10.0\u001b[39;49m\u001b[43m,\u001b[49m\u001b[43m \u001b[49m\u001b[43mmode\u001b[49m\u001b[38;5;241;43m=\u001b[39;49m\u001b[38;5;124;43m\"\u001b[39;49m\u001b[38;5;124;43mvalid\u001b[39;49m\u001b[38;5;124;43m\"\u001b[39;49m\u001b[43m)\u001b[49m[\u001b[38;5;241m0\u001b[39m] \u001b[38;5;28;01mfor\u001b[39;00m col \u001b[38;5;129;01min\u001b[39;00m diffs\u001b[38;5;241m.\u001b[39mtranspose()])\n\u001b[0;32m    220\u001b[0m \u001b[38;5;28mself\u001b[39m\u001b[38;5;241m.\u001b[39mrecent_ee_acc[arm]\u001b[38;5;241m.\u001b[39mpush(ee_acc)\n",
      "File \u001b[1;32mc:\\Users\\14385\\Desktop\\SAC\\venv\\lib\\site-packages\\numpy\\_core\\numeric.py:869\u001b[0m, in \u001b[0;36mconvolve\u001b[1;34m(a, v, mode)\u001b[0m\n\u001b[0;32m    867\u001b[0m \u001b[38;5;28;01mif\u001b[39;00m \u001b[38;5;28mlen\u001b[39m(v) \u001b[38;5;241m==\u001b[39m \u001b[38;5;241m0\u001b[39m:\n\u001b[0;32m    868\u001b[0m     \u001b[38;5;28;01mraise\u001b[39;00m \u001b[38;5;167;01mValueError\u001b[39;00m(\u001b[38;5;124m'\u001b[39m\u001b[38;5;124mv cannot be empty\u001b[39m\u001b[38;5;124m'\u001b[39m)\n\u001b[1;32m--> 869\u001b[0m \u001b[38;5;28;01mreturn\u001b[39;00m \u001b[43mmultiarray\u001b[49m\u001b[38;5;241;43m.\u001b[39;49m\u001b[43mcorrelate\u001b[49m\u001b[43m(\u001b[49m\u001b[43ma\u001b[49m\u001b[43m,\u001b[49m\u001b[43m \u001b[49m\u001b[43mv\u001b[49m\u001b[43m[\u001b[49m\u001b[43m:\u001b[49m\u001b[43m:\u001b[49m\u001b[38;5;241;43m-\u001b[39;49m\u001b[38;5;241;43m1\u001b[39;49m\u001b[43m]\u001b[49m\u001b[43m,\u001b[49m\u001b[43m \u001b[49m\u001b[43mmode\u001b[49m\u001b[43m)\u001b[49m\n",
      "\u001b[1;31mKeyboardInterrupt\u001b[0m: "
     ]
    }
   ],
   "source": [
    "env = suite.make(\n",
    "    env_name=\"TwoArmPegInHole\",\n",
    "    robots=\"GR1\", \n",
    "    has_renderer=True,\n",
    "    has_offscreen_renderer=False,\n",
    "    use_camera_obs=False\n",
    ")\n",
    "\n",
    "for t in range(100):\n",
    "    env.reset()\n",
    "    for i in range(100):\n",
    "        action = np.random.randn(*env.action_spec[0].shape) * 0.1\n",
    "        obs, reward, done, info = env.step(action)  \n",
    "        env.render()  \n",
    "    env.close()"
   ]
  },
  {
   "cell_type": "code",
   "execution_count": null,
   "id": "0a96e30e",
   "metadata": {},
   "outputs": [],
   "source": [
    "import mujoco\n",
    "mujoco.__path__"
   ]
  },
  {
   "cell_type": "code",
   "execution_count": null,
   "id": "13b26e74",
   "metadata": {},
   "outputs": [],
   "source": []
  }
 ],
 "metadata": {
  "kernelspec": {
   "display_name": "venv",
   "language": "python",
   "name": "python3"
  },
  "language_info": {
   "codemirror_mode": {
    "name": "ipython",
    "version": 3
   },
   "file_extension": ".py",
   "mimetype": "text/x-python",
   "name": "python",
   "nbconvert_exporter": "python",
   "pygments_lexer": "ipython3",
   "version": "3.10.11"
  }
 },
 "nbformat": 4,
 "nbformat_minor": 5
}
